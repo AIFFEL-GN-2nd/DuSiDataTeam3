{
 "cells": [
  {
   "cell_type": "markdown",
   "metadata": {},
   "source": [
    "# Chap 10 데이터 집계와 그룹 연산\n",
    "\n",
    " \n",
    "* 하나 이상의 를 이용해서 pandas 객체를 여러 조각으로 나누는 법\n",
    "\n",
    "* 합계, 평균, 표준편차, 사용자 정의 함수 같은 그룹 요약 통계 계산법\n",
    "\n",
    "* 정규화, 선형회귀, 등급 또는 부분 집합 선택 등 집단 내 변형이나 다른 조작을 적용하는 방법\n",
    "\n",
    "* 피벗테이블과 교차일람표를 구하는 방법\n",
    "\n",
    "* 변위치 분석과 다른 통계 집단 분석을 수행하는 방법\n",
    "\n",
    "\n",
    "## GroupBy 메카닉 \n",
    "\n",
    "\n",
    "1. 분리 \n",
    " - 하나의 Key를 기준으로 **분리**\n",
    " \n",
    "2. 적용\n",
    " - 함수를 나뉘어진 그룹에 **적용**시켜 새로운 값 얻어내기\n",
    "\n",
    "3.  결합\n",
    " - 함수가 적용된 결과를 하나의 객체로 **결합**\n",
    " \n",
    " \n",
    "---------------------------------\n",
    "\n",
    "Google의 논문 [MapReduce: Simplified Data Processing on Large Clusters](https://research.google/pubs/pub62/)에 영향받은\n",
    "\n",
    "데이터 분석에서는 Hadley Wickhan의 논문 [The Split-Apply-Combine Strategy for Data Analysis](https://www.jstatsoft.org/v40/i01/paper)\n",
    "\n",
    "에서 시작되었음\n",
    " \n",
    "------------------------------ \n",
    "> 두 논문 다 시간 날 때 읽어 보시길 권합니다..!"
   ]
  },
  {
   "cell_type": "code",
   "execution_count": 4,
   "metadata": {},
   "outputs": [],
   "source": [
    "import numpy as np\n",
    "import pandas as pd"
   ]
  },
  {
   "cell_type": "code",
   "execution_count": 5,
   "metadata": {},
   "outputs": [
    {
     "data": {
      "text/html": [
       "<div>\n",
       "<style scoped>\n",
       "    .dataframe tbody tr th:only-of-type {\n",
       "        vertical-align: middle;\n",
       "    }\n",
       "\n",
       "    .dataframe tbody tr th {\n",
       "        vertical-align: top;\n",
       "    }\n",
       "\n",
       "    .dataframe thead th {\n",
       "        text-align: right;\n",
       "    }\n",
       "</style>\n",
       "<table border=\"1\" class=\"dataframe\">\n",
       "  <thead>\n",
       "    <tr style=\"text-align: right;\">\n",
       "      <th></th>\n",
       "      <th>key1</th>\n",
       "      <th>key2</th>\n",
       "      <th>data1</th>\n",
       "      <th>data2</th>\n",
       "    </tr>\n",
       "  </thead>\n",
       "  <tbody>\n",
       "    <tr>\n",
       "      <th>0</th>\n",
       "      <td>a</td>\n",
       "      <td>one</td>\n",
       "      <td>-0.020457</td>\n",
       "      <td>0.029252</td>\n",
       "    </tr>\n",
       "    <tr>\n",
       "      <th>1</th>\n",
       "      <td>a</td>\n",
       "      <td>two</td>\n",
       "      <td>0.102137</td>\n",
       "      <td>-1.332266</td>\n",
       "    </tr>\n",
       "    <tr>\n",
       "      <th>2</th>\n",
       "      <td>b</td>\n",
       "      <td>one</td>\n",
       "      <td>-0.533152</td>\n",
       "      <td>0.680162</td>\n",
       "    </tr>\n",
       "    <tr>\n",
       "      <th>3</th>\n",
       "      <td>b</td>\n",
       "      <td>two</td>\n",
       "      <td>-0.690446</td>\n",
       "      <td>-1.299890</td>\n",
       "    </tr>\n",
       "    <tr>\n",
       "      <th>4</th>\n",
       "      <td>a</td>\n",
       "      <td>NaN</td>\n",
       "      <td>0.690403</td>\n",
       "      <td>1.776467</td>\n",
       "    </tr>\n",
       "  </tbody>\n",
       "</table>\n",
       "</div>"
      ],
      "text/plain": [
       "  key1 key2     data1     data2\n",
       "0    a  one -0.020457  0.029252\n",
       "1    a  two  0.102137 -1.332266\n",
       "2    b  one -0.533152  0.680162\n",
       "3    b  two -0.690446 -1.299890\n",
       "4    a  NaN  0.690403  1.776467"
      ]
     },
     "execution_count": 5,
     "metadata": {},
     "output_type": "execute_result"
    }
   ],
   "source": [
    "df = pd.DataFrame(\n",
    "    {\n",
    "        \"key1\": [\"a\", \"a\", \"b\", \"b\", \"a\"],\n",
    "        \"key2\": [\"one\", \"two\", \"one\", \"two\", np.nan],\n",
    "        \"data1\": np.random.randn(5),\n",
    "        \"data2\": np.random.randn(5),\n",
    "    }\n",
    ")\n",
    "df"
   ]
  },
  {
   "cell_type": "code",
   "execution_count": 6,
   "metadata": {},
   "outputs": [
    {
     "data": {
      "text/plain": [
       "<pandas.core.groupby.groupby.SeriesGroupBy object at 0x000002B9BFBDF5F8>"
      ]
     },
     "execution_count": 6,
     "metadata": {},
     "output_type": "execute_result"
    }
   ],
   "source": [
    "grouped = df[\"data1\"].groupby(df[\"key1\"])\n",
    "grouped  # 단순히 groupby만 쓰면 groupby 객체만 나옵니다."
   ]
  },
  {
   "cell_type": "code",
   "execution_count": 7,
   "metadata": {},
   "outputs": [
    {
     "data": {
      "text/plain": [
       "key1\n",
       "a    0.257361\n",
       "b   -0.611799\n",
       "Name: data1, dtype: float64"
      ]
     },
     "execution_count": 7,
     "metadata": {},
     "output_type": "execute_result"
    }
   ],
   "source": [
    "grouped.mean()  # key1 칼럼 기준으로 묶어서 평균을 계산해주었음.\n",
    "# 새로운 이 Series 객체의 색인은 우리가 groupby로 지정한 'key1임'"
   ]
  },
  {
   "cell_type": "code",
   "execution_count": 8,
   "metadata": {},
   "outputs": [
    {
     "data": {
      "text/plain": [
       "key1  key2\n",
       "a     one    -0.020457\n",
       "      two     0.102137\n",
       "b     one    -0.533152\n",
       "      two    -0.690446\n",
       "Name: data1, dtype: float64"
      ]
     },
     "execution_count": 8,
     "metadata": {},
     "output_type": "execute_result"
    }
   ],
   "source": [
    "means = (\n",
    "    df[\"data1\"].groupby([df[\"key1\"], df[\"key2\"]]).mean()\n",
    ")  # groupby key를 key1, key2 두개를 줬기에 계층적 index를 갖게됨\n",
    "means"
   ]
  },
  {
   "cell_type": "code",
   "execution_count": 9,
   "metadata": {},
   "outputs": [
    {
     "data": {
      "text/html": [
       "<div>\n",
       "<style scoped>\n",
       "    .dataframe tbody tr th:only-of-type {\n",
       "        vertical-align: middle;\n",
       "    }\n",
       "\n",
       "    .dataframe tbody tr th {\n",
       "        vertical-align: top;\n",
       "    }\n",
       "\n",
       "    .dataframe thead th {\n",
       "        text-align: right;\n",
       "    }\n",
       "</style>\n",
       "<table border=\"1\" class=\"dataframe\">\n",
       "  <thead>\n",
       "    <tr style=\"text-align: right;\">\n",
       "      <th>key2</th>\n",
       "      <th>one</th>\n",
       "      <th>two</th>\n",
       "    </tr>\n",
       "    <tr>\n",
       "      <th>key1</th>\n",
       "      <th></th>\n",
       "      <th></th>\n",
       "    </tr>\n",
       "  </thead>\n",
       "  <tbody>\n",
       "    <tr>\n",
       "      <th>a</th>\n",
       "      <td>-0.020457</td>\n",
       "      <td>0.102137</td>\n",
       "    </tr>\n",
       "    <tr>\n",
       "      <th>b</th>\n",
       "      <td>-0.533152</td>\n",
       "      <td>-0.690446</td>\n",
       "    </tr>\n",
       "  </tbody>\n",
       "</table>\n",
       "</div>"
      ],
      "text/plain": [
       "key2       one       two\n",
       "key1                    \n",
       "a    -0.020457  0.102137\n",
       "b    -0.533152 -0.690446"
      ]
     },
     "execution_count": 9,
     "metadata": {},
     "output_type": "execute_result"
    }
   ],
   "source": [
    "means.unstack()  # unstack으로 풀어버리기도 가능"
   ]
  },
  {
   "cell_type": "code",
   "execution_count": 10,
   "metadata": {},
   "outputs": [
    {
     "data": {
      "text/plain": [
       "California  2005    0.102137\n",
       "            2006   -0.533152\n",
       "Ohio        2005   -0.355452\n",
       "            2006    0.690403\n",
       "Name: data1, dtype: float64"
      ]
     },
     "execution_count": 10,
     "metadata": {},
     "output_type": "execute_result"
    }
   ],
   "source": [
    "states = np.array([\"Ohio\", \"California\", \"California\", \"Ohio\", \"Ohio\"])\n",
    "years = np.array([2005, 2005, 2006, 2005, 2006])\n",
    "df[\"data1\"].groupby([states, years]).mean()  # 기존 data1에 없던 index를 넣어서도 가능함."
   ]
  },
  {
   "cell_type": "code",
   "execution_count": 11,
   "metadata": {},
   "outputs": [
    {
     "data": {
      "text/html": [
       "<div>\n",
       "<style scoped>\n",
       "    .dataframe tbody tr th:only-of-type {\n",
       "        vertical-align: middle;\n",
       "    }\n",
       "\n",
       "    .dataframe tbody tr th {\n",
       "        vertical-align: top;\n",
       "    }\n",
       "\n",
       "    .dataframe thead th {\n",
       "        text-align: right;\n",
       "    }\n",
       "</style>\n",
       "<table border=\"1\" class=\"dataframe\">\n",
       "  <thead>\n",
       "    <tr style=\"text-align: right;\">\n",
       "      <th></th>\n",
       "      <th></th>\n",
       "      <th>data1</th>\n",
       "      <th>data2</th>\n",
       "    </tr>\n",
       "    <tr>\n",
       "      <th>key1</th>\n",
       "      <th>key2</th>\n",
       "      <th></th>\n",
       "      <th></th>\n",
       "    </tr>\n",
       "  </thead>\n",
       "  <tbody>\n",
       "    <tr>\n",
       "      <th rowspan=\"2\" valign=\"top\">a</th>\n",
       "      <th>one</th>\n",
       "      <td>-0.020457</td>\n",
       "      <td>0.029252</td>\n",
       "    </tr>\n",
       "    <tr>\n",
       "      <th>two</th>\n",
       "      <td>0.102137</td>\n",
       "      <td>-1.332266</td>\n",
       "    </tr>\n",
       "    <tr>\n",
       "      <th rowspan=\"2\" valign=\"top\">b</th>\n",
       "      <th>one</th>\n",
       "      <td>-0.533152</td>\n",
       "      <td>0.680162</td>\n",
       "    </tr>\n",
       "    <tr>\n",
       "      <th>two</th>\n",
       "      <td>-0.690446</td>\n",
       "      <td>-1.299890</td>\n",
       "    </tr>\n",
       "  </tbody>\n",
       "</table>\n",
       "</div>"
      ],
      "text/plain": [
       "              data1     data2\n",
       "key1 key2                    \n",
       "a    one  -0.020457  0.029252\n",
       "     two   0.102137 -1.332266\n",
       "b    one  -0.533152  0.680162\n",
       "     two  -0.690446 -1.299890"
      ]
     },
     "execution_count": 11,
     "metadata": {},
     "output_type": "execute_result"
    }
   ],
   "source": [
    "df.groupby([\"key1\", \"key2\"]).mean()"
   ]
  },
  {
   "cell_type": "code",
   "execution_count": 12,
   "metadata": {},
   "outputs": [
    {
     "data": {
      "text/html": [
       "<div>\n",
       "<style scoped>\n",
       "    .dataframe tbody tr th:only-of-type {\n",
       "        vertical-align: middle;\n",
       "    }\n",
       "\n",
       "    .dataframe tbody tr th {\n",
       "        vertical-align: top;\n",
       "    }\n",
       "\n",
       "    .dataframe thead th {\n",
       "        text-align: right;\n",
       "    }\n",
       "</style>\n",
       "<table border=\"1\" class=\"dataframe\">\n",
       "  <thead>\n",
       "    <tr style=\"text-align: right;\">\n",
       "      <th></th>\n",
       "      <th>data1</th>\n",
       "      <th>data2</th>\n",
       "    </tr>\n",
       "    <tr>\n",
       "      <th>key1</th>\n",
       "      <th></th>\n",
       "      <th></th>\n",
       "    </tr>\n",
       "  </thead>\n",
       "  <tbody>\n",
       "    <tr>\n",
       "      <th>a</th>\n",
       "      <td>0.257361</td>\n",
       "      <td>0.157818</td>\n",
       "    </tr>\n",
       "    <tr>\n",
       "      <th>b</th>\n",
       "      <td>-0.611799</td>\n",
       "      <td>-0.309864</td>\n",
       "    </tr>\n",
       "  </tbody>\n",
       "</table>\n",
       "</div>"
      ],
      "text/plain": [
       "         data1     data2\n",
       "key1                    \n",
       "a     0.257361  0.157818\n",
       "b    -0.611799 -0.309864"
      ]
     },
     "execution_count": 12,
     "metadata": {},
     "output_type": "execute_result"
    }
   ],
   "source": [
    "df.groupby(\n",
    "    \"key1\"\n",
    ").mean()  # 위와 비교하면 key2가 빠져있는데 key2는 숫자가 아니라 (범주형 데이터라) mean 계산이 불가능하기 때문\n",
    "# 이런 칼럼을 성가신 칼럼 nuisance column이라 부르고 결과에서 제외함."
   ]
  },
  {
   "cell_type": "code",
   "execution_count": 13,
   "metadata": {},
   "outputs": [
    {
     "data": {
      "text/plain": [
       "key1  key2\n",
       "a     one     1\n",
       "      two     1\n",
       "b     one     1\n",
       "      two     1\n",
       "dtype: int64"
      ]
     },
     "execution_count": 13,
     "metadata": {},
     "output_type": "execute_result"
    }
   ],
   "source": [
    "df.groupby([\"key1\", \"key2\"]).size()  # 이때 nan은 제외힘"
   ]
  },
  {
   "cell_type": "markdown",
   "metadata": {},
   "source": [
    "### 그룹간 순회하기"
   ]
  },
  {
   "cell_type": "code",
   "execution_count": 14,
   "metadata": {},
   "outputs": [
    {
     "name": "stdout",
     "output_type": "stream",
     "text": [
      "a\n",
      "----------\n",
      "  key1 key2     data1     data2\n",
      "0    a  one -0.020457  0.029252\n",
      "1    a  two  0.102137 -1.332266\n",
      "4    a  NaN  0.690403  1.776467\n",
      "\n",
      "\n",
      "b\n",
      "----------\n",
      "  key1 key2     data1     data2\n",
      "2    b  one -0.533152  0.680162\n",
      "3    b  two -0.690446 -1.299890\n",
      "\n",
      "\n"
     ]
    }
   ],
   "source": [
    "for name, group in df.groupby(\"key1\"): # 하나씩 for 문으로 받기도 가능. 뭔가 각 종류별로 데이터를 넣을 때 사용할 수 있을 듯 `\n",
    "    print(name)\n",
    "    print('-'* 10)\n",
    "    print(group)       \n",
    "    print('\\n')"
   ]
  },
  {
   "cell_type": "code",
   "execution_count": 15,
   "metadata": {},
   "outputs": [
    {
     "name": "stdout",
     "output_type": "stream",
     "text": [
      "('a', 'one')\n",
      "----------\n",
      "  key1 key2     data1     data2\n",
      "0    a  one -0.020457  0.029252\n",
      "\n",
      "\n",
      "('a', 'two')\n",
      "----------\n",
      "  key1 key2     data1     data2\n",
      "1    a  two  0.102137 -1.332266\n",
      "\n",
      "\n",
      "('b', 'one')\n",
      "----------\n",
      "  key1 key2     data1     data2\n",
      "2    b  one -0.533152  0.680162\n",
      "\n",
      "\n",
      "('b', 'two')\n",
      "----------\n",
      "  key1 key2     data1    data2\n",
      "3    b  two -0.690446 -1.29989\n",
      "\n",
      "\n"
     ]
    }
   ],
   "source": [
    "for (k1, k2), group in df.groupby(['key1', 'key2']):\n",
    "    print((k1, k2))\n",
    "    print('-' * 10)\n",
    "    print(group)\n",
    "    print('\\n')"
   ]
  },
  {
   "cell_type": "code",
   "execution_count": 16,
   "metadata": {},
   "outputs": [
    {
     "data": {
      "text/plain": [
       "{'a':   key1 key2     data1     data2\n",
       " 0    a  one -0.020457  0.029252\n",
       " 1    a  two  0.102137 -1.332266\n",
       " 4    a  NaN  0.690403  1.776467, 'b':   key1 key2     data1     data2\n",
       " 2    b  one -0.533152  0.680162\n",
       " 3    b  two -0.690446 -1.299890}"
      ]
     },
     "execution_count": 16,
     "metadata": {},
     "output_type": "execute_result"
    }
   ],
   "source": [
    "pieces = dict(list(df.groupby('key1')))   # dic 형식으로 받기 도 가능 \n",
    "pieces             "
   ]
  },
  {
   "cell_type": "code",
   "execution_count": 17,
   "metadata": {},
   "outputs": [
    {
     "data": {
      "text/plain": [
       "key1      object\n",
       "key2      object\n",
       "data1    float64\n",
       "data2    float64\n",
       "dtype: object"
      ]
     },
     "execution_count": 17,
     "metadata": {},
     "output_type": "execute_result"
    }
   ],
   "source": [
    "df.dtypes"
   ]
  },
  {
   "cell_type": "code",
   "execution_count": 18,
   "metadata": {},
   "outputs": [
    {
     "name": "stdout",
     "output_type": "stream",
     "text": [
      "float64\n",
      "--------------------\n",
      "      data1     data2\n",
      "0 -0.020457  0.029252\n",
      "1  0.102137 -1.332266\n",
      "2 -0.533152  0.680162\n",
      "3 -0.690446 -1.299890\n",
      "4  0.690403  1.776467\n",
      "\n",
      "\n",
      "object\n",
      "--------------------\n",
      "  key1 key2\n",
      "0    a  one\n",
      "1    a  two\n",
      "2    b  one\n",
      "3    b  two\n",
      "4    a  NaN\n",
      "\n",
      "\n"
     ]
    }
   ],
   "source": [
    "grouped = df.groupby(df.dtypes, axis=1)  # 행을 기준이 아닌 열(axis = 1)을 기준으로도 그룹을 만들 수 있음 \n",
    "for dtype, group in grouped:\n",
    "    print(dtype)\n",
    "    print('-'* 20)\n",
    "    print(group)\n",
    "    print('\\n')"
   ]
  },
  {
   "cell_type": "markdown",
   "metadata": {},
   "source": [
    "### 컬럼이나 컬럼의 일부만 선택하기 \n",
    "생략"
   ]
  },
  {
   "cell_type": "markdown",
   "metadata": {},
   "source": [
    "### dict과 Series에서 그룹핑하기"
   ]
  },
  {
   "cell_type": "markdown",
   "metadata": {},
   "source": [
    "생략"
   ]
  },
  {
   "cell_type": "markdown",
   "metadata": {},
   "source": [
    "### 함수로 그루핑하기 "
   ]
  },
  {
   "cell_type": "code",
   "execution_count": 23,
   "metadata": {},
   "outputs": [
    {
     "data": {
      "text/html": [
       "<div>\n",
       "<style scoped>\n",
       "    .dataframe tbody tr th:only-of-type {\n",
       "        vertical-align: middle;\n",
       "    }\n",
       "\n",
       "    .dataframe tbody tr th {\n",
       "        vertical-align: top;\n",
       "    }\n",
       "\n",
       "    .dataframe thead th {\n",
       "        text-align: right;\n",
       "    }\n",
       "</style>\n",
       "<table border=\"1\" class=\"dataframe\">\n",
       "  <thead>\n",
       "    <tr style=\"text-align: right;\">\n",
       "      <th></th>\n",
       "      <th>a</th>\n",
       "      <th>b</th>\n",
       "      <th>c</th>\n",
       "      <th>d</th>\n",
       "      <th>e</th>\n",
       "    </tr>\n",
       "  </thead>\n",
       "  <tbody>\n",
       "    <tr>\n",
       "      <th>Joe</th>\n",
       "      <td>-1.895139</td>\n",
       "      <td>0.877092</td>\n",
       "      <td>-0.429203</td>\n",
       "      <td>0.228393</td>\n",
       "      <td>1.001206</td>\n",
       "    </tr>\n",
       "    <tr>\n",
       "      <th>Steve</th>\n",
       "      <td>-0.811868</td>\n",
       "      <td>-0.604670</td>\n",
       "      <td>0.581216</td>\n",
       "      <td>-0.810263</td>\n",
       "      <td>1.353533</td>\n",
       "    </tr>\n",
       "    <tr>\n",
       "      <th>Wes</th>\n",
       "      <td>-0.054384</td>\n",
       "      <td>-0.619279</td>\n",
       "      <td>-0.463613</td>\n",
       "      <td>-0.874613</td>\n",
       "      <td>-0.114991</td>\n",
       "    </tr>\n",
       "    <tr>\n",
       "      <th>Jim</th>\n",
       "      <td>1.124818</td>\n",
       "      <td>0.664126</td>\n",
       "      <td>1.388410</td>\n",
       "      <td>-0.776159</td>\n",
       "      <td>-0.826000</td>\n",
       "    </tr>\n",
       "    <tr>\n",
       "      <th>Travis</th>\n",
       "      <td>-0.409048</td>\n",
       "      <td>1.262777</td>\n",
       "      <td>0.361698</td>\n",
       "      <td>-0.227387</td>\n",
       "      <td>-0.279755</td>\n",
       "    </tr>\n",
       "  </tbody>\n",
       "</table>\n",
       "</div>"
      ],
      "text/plain": [
       "               a         b         c         d         e\n",
       "Joe    -1.895139  0.877092 -0.429203  0.228393  1.001206\n",
       "Steve  -0.811868 -0.604670  0.581216 -0.810263  1.353533\n",
       "Wes    -0.054384 -0.619279 -0.463613 -0.874613 -0.114991\n",
       "Jim     1.124818  0.664126  1.388410 -0.776159 -0.826000\n",
       "Travis -0.409048  1.262777  0.361698 -0.227387 -0.279755"
      ]
     },
     "execution_count": 23,
     "metadata": {},
     "output_type": "execute_result"
    }
   ],
   "source": [
    "people = pd.DataFrame(np.random.randn(5, 5),\n",
    "                      columns=['a', 'b', 'c', 'd', 'e'],\n",
    "                      index=['Joe', 'Steve', 'Wes', 'Jim', 'Travis'])\n",
    "people"
   ]
  },
  {
   "cell_type": "code",
   "execution_count": 24,
   "metadata": {},
   "outputs": [
    {
     "data": {
      "text/html": [
       "<div>\n",
       "<style scoped>\n",
       "    .dataframe tbody tr th:only-of-type {\n",
       "        vertical-align: middle;\n",
       "    }\n",
       "\n",
       "    .dataframe tbody tr th {\n",
       "        vertical-align: top;\n",
       "    }\n",
       "\n",
       "    .dataframe thead th {\n",
       "        text-align: right;\n",
       "    }\n",
       "</style>\n",
       "<table border=\"1\" class=\"dataframe\">\n",
       "  <thead>\n",
       "    <tr style=\"text-align: right;\">\n",
       "      <th></th>\n",
       "      <th>a</th>\n",
       "      <th>b</th>\n",
       "      <th>c</th>\n",
       "      <th>d</th>\n",
       "      <th>e</th>\n",
       "    </tr>\n",
       "  </thead>\n",
       "  <tbody>\n",
       "    <tr>\n",
       "      <th>3</th>\n",
       "      <td>-0.824705</td>\n",
       "      <td>0.921940</td>\n",
       "      <td>0.495594</td>\n",
       "      <td>-1.422380</td>\n",
       "      <td>0.060216</td>\n",
       "    </tr>\n",
       "    <tr>\n",
       "      <th>5</th>\n",
       "      <td>-0.811868</td>\n",
       "      <td>-0.604670</td>\n",
       "      <td>0.581216</td>\n",
       "      <td>-0.810263</td>\n",
       "      <td>1.353533</td>\n",
       "    </tr>\n",
       "    <tr>\n",
       "      <th>6</th>\n",
       "      <td>-0.409048</td>\n",
       "      <td>1.262777</td>\n",
       "      <td>0.361698</td>\n",
       "      <td>-0.227387</td>\n",
       "      <td>-0.279755</td>\n",
       "    </tr>\n",
       "  </tbody>\n",
       "</table>\n",
       "</div>"
      ],
      "text/plain": [
       "          a         b         c         d         e\n",
       "3 -0.824705  0.921940  0.495594 -1.422380  0.060216\n",
       "5 -0.811868 -0.604670  0.581216 -0.810263  1.353533\n",
       "6 -0.409048  1.262777  0.361698 -0.227387 -0.279755"
      ]
     },
     "execution_count": 24,
     "metadata": {},
     "output_type": "execute_result"
    }
   ],
   "source": [
    "people.groupby(len).sum() # axis = 0에 대해서 len()을 적용해서 3(Joe, Wes, Jim), 5(Steve),6(Travis) 순으로 정렬함 \n"
   ]
  },
  {
   "cell_type": "code",
   "execution_count": 25,
   "metadata": {},
   "outputs": [
    {
     "data": {
      "text/html": [
       "<div>\n",
       "<style scoped>\n",
       "    .dataframe tbody tr th:only-of-type {\n",
       "        vertical-align: middle;\n",
       "    }\n",
       "\n",
       "    .dataframe tbody tr th {\n",
       "        vertical-align: top;\n",
       "    }\n",
       "\n",
       "    .dataframe thead th {\n",
       "        text-align: right;\n",
       "    }\n",
       "</style>\n",
       "<table border=\"1\" class=\"dataframe\">\n",
       "  <thead>\n",
       "    <tr style=\"text-align: right;\">\n",
       "      <th></th>\n",
       "      <th></th>\n",
       "      <th>a</th>\n",
       "      <th>b</th>\n",
       "      <th>c</th>\n",
       "      <th>d</th>\n",
       "      <th>e</th>\n",
       "    </tr>\n",
       "  </thead>\n",
       "  <tbody>\n",
       "    <tr>\n",
       "      <th rowspan=\"2\" valign=\"top\">3</th>\n",
       "      <th>one</th>\n",
       "      <td>-1.895139</td>\n",
       "      <td>-0.619279</td>\n",
       "      <td>-0.463613</td>\n",
       "      <td>-0.874613</td>\n",
       "      <td>-0.114991</td>\n",
       "    </tr>\n",
       "    <tr>\n",
       "      <th>two</th>\n",
       "      <td>1.124818</td>\n",
       "      <td>0.664126</td>\n",
       "      <td>1.388410</td>\n",
       "      <td>-0.776159</td>\n",
       "      <td>-0.826000</td>\n",
       "    </tr>\n",
       "    <tr>\n",
       "      <th>5</th>\n",
       "      <th>one</th>\n",
       "      <td>-0.811868</td>\n",
       "      <td>-0.604670</td>\n",
       "      <td>0.581216</td>\n",
       "      <td>-0.810263</td>\n",
       "      <td>1.353533</td>\n",
       "    </tr>\n",
       "    <tr>\n",
       "      <th>6</th>\n",
       "      <th>two</th>\n",
       "      <td>-0.409048</td>\n",
       "      <td>1.262777</td>\n",
       "      <td>0.361698</td>\n",
       "      <td>-0.227387</td>\n",
       "      <td>-0.279755</td>\n",
       "    </tr>\n",
       "  </tbody>\n",
       "</table>\n",
       "</div>"
      ],
      "text/plain": [
       "              a         b         c         d         e\n",
       "3 one -1.895139 -0.619279 -0.463613 -0.874613 -0.114991\n",
       "  two  1.124818  0.664126  1.388410 -0.776159 -0.826000\n",
       "5 one -0.811868 -0.604670  0.581216 -0.810263  1.353533\n",
       "6 two -0.409048  1.262777  0.361698 -0.227387 -0.279755"
      ]
     },
     "execution_count": 25,
     "metadata": {},
     "output_type": "execute_result"
    }
   ],
   "source": [
    "key_list = ['one', 'one', 'one', 'two', 'two']\n",
    "people.groupby([len, key_list]).min()  # len()의 결과와 key_list 값들 을 기준으로 multi index로 정렬함 "
   ]
  },
  {
   "cell_type": "markdown",
   "metadata": {},
   "source": [
    "### 인덱스 단계로 그루핑\n",
    "생략"
   ]
  },
  {
   "cell_type": "markdown",
   "metadata": {},
   "source": [
    "## 데이터 집계\n",
    "\n",
    "자신만의 데이터 함수 사용하려면 agg메서드에 해당 함수를 넘기면 된다."
   ]
  },
  {
   "cell_type": "code",
   "execution_count": 30,
   "metadata": {},
   "outputs": [],
   "source": [
    "df\n",
    "grouped = df.groupby('key1')"
   ]
  },
  {
   "cell_type": "code",
   "execution_count": 29,
   "metadata": {},
   "outputs": [
    {
     "data": {
      "text/html": [
       "<div>\n",
       "<style scoped>\n",
       "    .dataframe tbody tr th:only-of-type {\n",
       "        vertical-align: middle;\n",
       "    }\n",
       "\n",
       "    .dataframe tbody tr th {\n",
       "        vertical-align: top;\n",
       "    }\n",
       "\n",
       "    .dataframe thead th {\n",
       "        text-align: right;\n",
       "    }\n",
       "</style>\n",
       "<table border=\"1\" class=\"dataframe\">\n",
       "  <thead>\n",
       "    <tr style=\"text-align: right;\">\n",
       "      <th></th>\n",
       "      <th>data1</th>\n",
       "      <th>data2</th>\n",
       "    </tr>\n",
       "    <tr>\n",
       "      <th>key1</th>\n",
       "      <th></th>\n",
       "      <th></th>\n",
       "    </tr>\n",
       "  </thead>\n",
       "  <tbody>\n",
       "    <tr>\n",
       "      <th>a</th>\n",
       "      <td>0.710860</td>\n",
       "      <td>3.108733</td>\n",
       "    </tr>\n",
       "    <tr>\n",
       "      <th>b</th>\n",
       "      <td>0.157295</td>\n",
       "      <td>1.980052</td>\n",
       "    </tr>\n",
       "  </tbody>\n",
       "</table>\n",
       "</div>"
      ],
      "text/plain": [
       "         data1     data2\n",
       "key1                    \n",
       "a     0.710860  3.108733\n",
       "b     0.157295  1.980052"
      ]
     },
     "execution_count": 29,
     "metadata": {},
     "output_type": "execute_result"
    }
   ],
   "source": [
    "def peak_to_peak(arr):\n",
    "    return arr.max() - arr.min()\n",
    "grouped.agg(peak_to_peak)"
   ]
  },
  {
   "cell_type": "markdown",
   "metadata": {},
   "source": [
    "### 컬럼에 여러 가지 함수 적용하기\n",
    "생략"
   ]
  }
 ],
 "metadata": {
  "kernelspec": {
   "display_name": "Python 3",
   "language": "python",
   "name": "python3"
  },
  "language_info": {
   "codemirror_mode": {
    "name": "ipython",
    "version": 3
   },
   "file_extension": ".py",
   "mimetype": "text/x-python",
   "name": "python",
   "nbconvert_exporter": "python",
   "pygments_lexer": "ipython3",
   "version": "3.7.1"
  }
 },
 "nbformat": 4,
 "nbformat_minor": 5
}

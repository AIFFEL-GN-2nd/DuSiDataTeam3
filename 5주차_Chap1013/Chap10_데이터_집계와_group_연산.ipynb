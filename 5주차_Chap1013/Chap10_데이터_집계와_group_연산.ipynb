{
 "cells": [
  {
   "cell_type": "markdown",
   "id": "6d8fffe2",
   "metadata": {},
   "source": [
    "# Chap 10 데이터 집계와 그룹 연산\n",
    "\n",
    " \n",
    "* 하나 이상의 를 이용해서 pandas 객체를 여러 조각으로 나누는 법\n",
    "\n",
    "* 합계, 평균, 표준편차, 사용자 정의 함수 같은 그룹 요약 통계 계산법\n",
    "\n",
    "* 정규화, 선형회귀, 등급 또는 부분 집합 선택 등 집단 내 변형이나 다른 조작을 적용하는 방법\n",
    "\n",
    "* 피벗테이블과 교차일람표를 구하는 방법\n",
    "\n",
    "* 변위치 분석과 다른 통계 집단 분석을 수행하는 방법\n",
    "\n",
    "\n",
    "## GroupBy 메카닉 \n",
    "\n",
    "\n",
    "1. 분리 \n",
    " - 하나의 Key를 기준으로 **분리**\n",
    " \n",
    "2. 적용\n",
    " - 함수를 나뉘어진 그룹에 **적용**시켜 새로운 값 얻어내기\n",
    "\n",
    "3.  결합\n",
    " - 함수가 적용된 결과를 하나의 객체로 **결합**\n",
    " \n",
    " \n",
    "---------------------------------\n",
    "\n",
    "Google의 논문 [MapReduce: Simplified Data Processing on Large Clusters](https://research.google/pubs/pub62/)에 영향받은\n",
    "\n",
    "데이터 분석에서는 Hadley Wickhan의 논문 [The Split-Apply-Combine Strategy for Data Analysis](https://www.jstatsoft.org/v40/i01/paper)\n",
    "\n",
    "에서 시작되었음\n",
    " \n",
    "------------------------------ \n",
    "> 두 논문 다 시간 날 때 읽어 보시길 권합니다..!"
   ]
  },
  {
   "cell_type": "code",
   "execution_count": 10,
   "id": "5376bccc",
   "metadata": {},
   "outputs": [],
   "source": [
    "import numpy as np\n",
    "import pandas as pd"
   ]
  },
  {
   "cell_type": "code",
   "execution_count": 19,
   "id": "149af7a7",
   "metadata": {},
   "outputs": [
    {
     "data": {
      "text/html": [
       "<div>\n",
       "<style scoped>\n",
       "    .dataframe tbody tr th:only-of-type {\n",
       "        vertical-align: middle;\n",
       "    }\n",
       "\n",
       "    .dataframe tbody tr th {\n",
       "        vertical-align: top;\n",
       "    }\n",
       "\n",
       "    .dataframe thead th {\n",
       "        text-align: right;\n",
       "    }\n",
       "</style>\n",
       "<table border=\"1\" class=\"dataframe\">\n",
       "  <thead>\n",
       "    <tr style=\"text-align: right;\">\n",
       "      <th></th>\n",
       "      <th>key1</th>\n",
       "      <th>key2</th>\n",
       "      <th>data1</th>\n",
       "      <th>data2</th>\n",
       "    </tr>\n",
       "  </thead>\n",
       "  <tbody>\n",
       "    <tr>\n",
       "      <th>0</th>\n",
       "      <td>a</td>\n",
       "      <td>one</td>\n",
       "      <td>1.532423</td>\n",
       "      <td>-0.748299</td>\n",
       "    </tr>\n",
       "    <tr>\n",
       "      <th>1</th>\n",
       "      <td>a</td>\n",
       "      <td>two</td>\n",
       "      <td>0.923407</td>\n",
       "      <td>-0.616324</td>\n",
       "    </tr>\n",
       "    <tr>\n",
       "      <th>2</th>\n",
       "      <td>b</td>\n",
       "      <td>one</td>\n",
       "      <td>0.262773</td>\n",
       "      <td>-2.045550</td>\n",
       "    </tr>\n",
       "    <tr>\n",
       "      <th>3</th>\n",
       "      <td>b</td>\n",
       "      <td>two</td>\n",
       "      <td>1.645197</td>\n",
       "      <td>-0.132051</td>\n",
       "    </tr>\n",
       "    <tr>\n",
       "      <th>4</th>\n",
       "      <td>a</td>\n",
       "      <td>NaN</td>\n",
       "      <td>-0.417500</td>\n",
       "      <td>0.184773</td>\n",
       "    </tr>\n",
       "  </tbody>\n",
       "</table>\n",
       "</div>"
      ],
      "text/plain": [
       "  key1 key2     data1     data2\n",
       "0    a  one  1.532423 -0.748299\n",
       "1    a  two  0.923407 -0.616324\n",
       "2    b  one  0.262773 -2.045550\n",
       "3    b  two  1.645197 -0.132051\n",
       "4    a  NaN -0.417500  0.184773"
      ]
     },
     "execution_count": 19,
     "metadata": {},
     "output_type": "execute_result"
    }
   ],
   "source": [
    "df = pd.DataFrame(\n",
    "    {\n",
    "        \"key1\": [\"a\", \"a\", \"b\", \"b\", \"a\"],\n",
    "        \"key2\": [\"one\", \"two\", \"one\", \"two\", np.nan],\n",
    "        \"data1\": np.random.randn(5),\n",
    "        \"data2\": np.random.randn(5),\n",
    "    }\n",
    ")\n",
    "df"
   ]
  },
  {
   "cell_type": "code",
   "execution_count": 20,
   "id": "ca658b56",
   "metadata": {},
   "outputs": [
    {
     "data": {
      "text/plain": [
       "<pandas.core.groupby.generic.SeriesGroupBy object at 0x0000025321236648>"
      ]
     },
     "execution_count": 20,
     "metadata": {},
     "output_type": "execute_result"
    }
   ],
   "source": [
    "grouped = df[\"data1\"].groupby(df[\"key1\"])\n",
    "grouped  # 단순히 groupby만 쓰면 groupby 객체만 나옵니다."
   ]
  },
  {
   "cell_type": "code",
   "execution_count": 22,
   "id": "1d5750c3",
   "metadata": {},
   "outputs": [
    {
     "data": {
      "text/plain": [
       "key1\n",
       "a    0.679443\n",
       "b    0.953985\n",
       "Name: data1, dtype: float64"
      ]
     },
     "execution_count": 22,
     "metadata": {},
     "output_type": "execute_result"
    }
   ],
   "source": [
    "grouped.mean()  # key1 칼럼 기준으로 묶어서 평균을 계산해주었음.\n",
    "# 새로운 이 Series 객체의 색인은 우리가 groupby로 지정한 'key1임'"
   ]
  },
  {
   "cell_type": "code",
   "execution_count": 23,
   "id": "9ec39655",
   "metadata": {},
   "outputs": [
    {
     "data": {
      "text/plain": [
       "key1  key2\n",
       "a     one     1.532423\n",
       "      two     0.923407\n",
       "b     one     0.262773\n",
       "      two     1.645197\n",
       "Name: data1, dtype: float64"
      ]
     },
     "execution_count": 23,
     "metadata": {},
     "output_type": "execute_result"
    }
   ],
   "source": [
    "means = (\n",
    "    df[\"data1\"].groupby([df[\"key1\"], df[\"key2\"]]).mean()\n",
    ")  # groupby key를 key1, key2 두개를 줬기에 계층적 index를 갖게됨\n",
    "means"
   ]
  },
  {
   "cell_type": "code",
   "execution_count": 24,
   "id": "5a6ac08a",
   "metadata": {},
   "outputs": [
    {
     "data": {
      "text/html": [
       "<div>\n",
       "<style scoped>\n",
       "    .dataframe tbody tr th:only-of-type {\n",
       "        vertical-align: middle;\n",
       "    }\n",
       "\n",
       "    .dataframe tbody tr th {\n",
       "        vertical-align: top;\n",
       "    }\n",
       "\n",
       "    .dataframe thead th {\n",
       "        text-align: right;\n",
       "    }\n",
       "</style>\n",
       "<table border=\"1\" class=\"dataframe\">\n",
       "  <thead>\n",
       "    <tr style=\"text-align: right;\">\n",
       "      <th>key2</th>\n",
       "      <th>one</th>\n",
       "      <th>two</th>\n",
       "    </tr>\n",
       "    <tr>\n",
       "      <th>key1</th>\n",
       "      <th></th>\n",
       "      <th></th>\n",
       "    </tr>\n",
       "  </thead>\n",
       "  <tbody>\n",
       "    <tr>\n",
       "      <th>a</th>\n",
       "      <td>1.532423</td>\n",
       "      <td>0.923407</td>\n",
       "    </tr>\n",
       "    <tr>\n",
       "      <th>b</th>\n",
       "      <td>0.262773</td>\n",
       "      <td>1.645197</td>\n",
       "    </tr>\n",
       "  </tbody>\n",
       "</table>\n",
       "</div>"
      ],
      "text/plain": [
       "key2       one       two\n",
       "key1                    \n",
       "a     1.532423  0.923407\n",
       "b     0.262773  1.645197"
      ]
     },
     "execution_count": 24,
     "metadata": {},
     "output_type": "execute_result"
    }
   ],
   "source": [
    "means.unstack()  # unstack으로 풀어버리기도 가능"
   ]
  },
  {
   "cell_type": "code",
   "execution_count": 25,
   "id": "bdac1907",
   "metadata": {},
   "outputs": [
    {
     "data": {
      "text/plain": [
       "California  2005    0.923407\n",
       "            2006    0.262773\n",
       "Ohio        2005    1.588810\n",
       "            2006   -0.417500\n",
       "Name: data1, dtype: float64"
      ]
     },
     "execution_count": 25,
     "metadata": {},
     "output_type": "execute_result"
    }
   ],
   "source": [
    "states = np.array([\"Ohio\", \"California\", \"California\", \"Ohio\", \"Ohio\"])\n",
    "years = np.array([2005, 2005, 2006, 2005, 2006])\n",
    "df[\"data1\"].groupby([states, years]).mean()  # 기존 data1에 없던 index를 넣어서도 가능함."
   ]
  },
  {
   "cell_type": "code",
   "execution_count": 26,
   "id": "d6b0ede4",
   "metadata": {},
   "outputs": [
    {
     "data": {
      "text/html": [
       "<div>\n",
       "<style scoped>\n",
       "    .dataframe tbody tr th:only-of-type {\n",
       "        vertical-align: middle;\n",
       "    }\n",
       "\n",
       "    .dataframe tbody tr th {\n",
       "        vertical-align: top;\n",
       "    }\n",
       "\n",
       "    .dataframe thead th {\n",
       "        text-align: right;\n",
       "    }\n",
       "</style>\n",
       "<table border=\"1\" class=\"dataframe\">\n",
       "  <thead>\n",
       "    <tr style=\"text-align: right;\">\n",
       "      <th></th>\n",
       "      <th></th>\n",
       "      <th>data1</th>\n",
       "      <th>data2</th>\n",
       "    </tr>\n",
       "    <tr>\n",
       "      <th>key1</th>\n",
       "      <th>key2</th>\n",
       "      <th></th>\n",
       "      <th></th>\n",
       "    </tr>\n",
       "  </thead>\n",
       "  <tbody>\n",
       "    <tr>\n",
       "      <th rowspan=\"2\" valign=\"top\">a</th>\n",
       "      <th>one</th>\n",
       "      <td>1.532423</td>\n",
       "      <td>-0.748299</td>\n",
       "    </tr>\n",
       "    <tr>\n",
       "      <th>two</th>\n",
       "      <td>0.923407</td>\n",
       "      <td>-0.616324</td>\n",
       "    </tr>\n",
       "    <tr>\n",
       "      <th rowspan=\"2\" valign=\"top\">b</th>\n",
       "      <th>one</th>\n",
       "      <td>0.262773</td>\n",
       "      <td>-2.045550</td>\n",
       "    </tr>\n",
       "    <tr>\n",
       "      <th>two</th>\n",
       "      <td>1.645197</td>\n",
       "      <td>-0.132051</td>\n",
       "    </tr>\n",
       "  </tbody>\n",
       "</table>\n",
       "</div>"
      ],
      "text/plain": [
       "              data1     data2\n",
       "key1 key2                    \n",
       "a    one   1.532423 -0.748299\n",
       "     two   0.923407 -0.616324\n",
       "b    one   0.262773 -2.045550\n",
       "     two   1.645197 -0.132051"
      ]
     },
     "execution_count": 26,
     "metadata": {},
     "output_type": "execute_result"
    }
   ],
   "source": [
    "df.groupby([\"key1\", \"key2\"]).mean()"
   ]
  },
  {
   "cell_type": "code",
   "execution_count": 27,
   "id": "a5abb258",
   "metadata": {},
   "outputs": [
    {
     "data": {
      "text/html": [
       "<div>\n",
       "<style scoped>\n",
       "    .dataframe tbody tr th:only-of-type {\n",
       "        vertical-align: middle;\n",
       "    }\n",
       "\n",
       "    .dataframe tbody tr th {\n",
       "        vertical-align: top;\n",
       "    }\n",
       "\n",
       "    .dataframe thead th {\n",
       "        text-align: right;\n",
       "    }\n",
       "</style>\n",
       "<table border=\"1\" class=\"dataframe\">\n",
       "  <thead>\n",
       "    <tr style=\"text-align: right;\">\n",
       "      <th></th>\n",
       "      <th>data1</th>\n",
       "      <th>data2</th>\n",
       "    </tr>\n",
       "    <tr>\n",
       "      <th>key1</th>\n",
       "      <th></th>\n",
       "      <th></th>\n",
       "    </tr>\n",
       "  </thead>\n",
       "  <tbody>\n",
       "    <tr>\n",
       "      <th>a</th>\n",
       "      <td>0.679443</td>\n",
       "      <td>-0.393283</td>\n",
       "    </tr>\n",
       "    <tr>\n",
       "      <th>b</th>\n",
       "      <td>0.953985</td>\n",
       "      <td>-1.088800</td>\n",
       "    </tr>\n",
       "  </tbody>\n",
       "</table>\n",
       "</div>"
      ],
      "text/plain": [
       "         data1     data2\n",
       "key1                    \n",
       "a     0.679443 -0.393283\n",
       "b     0.953985 -1.088800"
      ]
     },
     "execution_count": 27,
     "metadata": {},
     "output_type": "execute_result"
    }
   ],
   "source": [
    "df.groupby(\n",
    "    \"key1\"\n",
    ").mean()  # 위와 비교하면 key2가 빠져있는데 key2는 숫자가 아니라 (범주형 데이터라) mean 계산이 불가능하기 때문\n",
    "# 이런 칼럼을 성가신 칼럼 nuisance column이라 부르고 결과에서 제외함."
   ]
  },
  {
   "cell_type": "code",
   "execution_count": 28,
   "id": "d5e645c9",
   "metadata": {},
   "outputs": [
    {
     "data": {
      "text/plain": [
       "key1  key2\n",
       "a     one     1\n",
       "      two     1\n",
       "b     one     1\n",
       "      two     1\n",
       "dtype: int64"
      ]
     },
     "execution_count": 28,
     "metadata": {},
     "output_type": "execute_result"
    }
   ],
   "source": [
    "df.groupby([\"key1\", \"key2\"]).size()  # 이때 nan은 제외힘"
   ]
  },
  {
   "cell_type": "markdown",
   "id": "0c0ab023",
   "metadata": {},
   "source": [
    "## 그룹간 순회하기"
   ]
  },
  {
   "cell_type": "code",
   "execution_count": 46,
   "id": "16967839",
   "metadata": {},
   "outputs": [
    {
     "name": "stdout",
     "output_type": "stream",
     "text": [
      "a\n",
      "----------\n",
      "  key1 key2     data1     data2\n",
      "0    a  one  1.532423 -0.748299\n",
      "1    a  two  0.923407 -0.616324\n",
      "4    a  NaN -0.417500  0.184773\n",
      "\n",
      "\n",
      "b\n",
      "----------\n",
      "  key1 key2     data1     data2\n",
      "2    b  one  0.262773 -2.045550\n",
      "3    b  two  1.645197 -0.132051\n",
      "\n",
      "\n"
     ]
    }
   ],
   "source": [
    "for name, group in df.groupby(\"key1\"): # 하나씩 for 문으로 받기도 가능. 뭔가 각 종류별로 데이터를 넣을 때 사용할 수 있을 듯 `\n",
    "    print(name)\n",
    "    print('-'* 10)\n",
    "    print(group)       \n",
    "    print('\\n')"
   ]
  },
  {
   "cell_type": "code",
   "execution_count": 45,
   "id": "aac05f14",
   "metadata": {},
   "outputs": [
    {
     "name": "stdout",
     "output_type": "stream",
     "text": [
      "('a', 'one')\n",
      "----------\n",
      "  key1 key2     data1     data2\n",
      "0    a  one  1.532423 -0.748299\n",
      "\n",
      "\n",
      "('a', 'two')\n",
      "----------\n",
      "  key1 key2     data1     data2\n",
      "1    a  two  0.923407 -0.616324\n",
      "\n",
      "\n",
      "('b', 'one')\n",
      "----------\n",
      "  key1 key2     data1    data2\n",
      "2    b  one  0.262773 -2.04555\n",
      "\n",
      "\n",
      "('b', 'two')\n",
      "----------\n",
      "  key1 key2     data1     data2\n",
      "3    b  two  1.645197 -0.132051\n",
      "\n",
      "\n"
     ]
    }
   ],
   "source": [
    "for (k1, k2), group in df.groupby(['key1', 'key2']):\n",
    "    print((k1, k2))\n",
    "    print('-' * 10)\n",
    "    print(group)\n",
    "    print('\\n')"
   ]
  },
  {
   "cell_type": "code",
   "execution_count": 36,
   "id": "e9e5ab0d",
   "metadata": {},
   "outputs": [
    {
     "data": {
      "text/plain": [
       "{'a':   key1 key2     data1     data2\n",
       " 0    a  one  1.532423 -0.748299\n",
       " 1    a  two  0.923407 -0.616324\n",
       " 4    a  NaN -0.417500  0.184773,\n",
       " 'b':   key1 key2     data1     data2\n",
       " 2    b  one  0.262773 -2.045550\n",
       " 3    b  two  1.645197 -0.132051}"
      ]
     },
     "execution_count": 36,
     "metadata": {},
     "output_type": "execute_result"
    }
   ],
   "source": [
    "pieces = dict(list(df.groupby('key1')))   # dic 형식으로 받기 도 가능 \n",
    "pieces             "
   ]
  },
  {
   "cell_type": "code",
   "execution_count": 41,
   "id": "79a2a1b5",
   "metadata": {},
   "outputs": [
    {
     "data": {
      "text/plain": [
       "key1      object\n",
       "key2      object\n",
       "data1    float64\n",
       "data2    float64\n",
       "dtype: object"
      ]
     },
     "execution_count": 41,
     "metadata": {},
     "output_type": "execute_result"
    }
   ],
   "source": [
    "df.dtypes"
   ]
  },
  {
   "cell_type": "code",
   "execution_count": 50,
   "id": "9a6f1860",
   "metadata": {},
   "outputs": [
    {
     "name": "stdout",
     "output_type": "stream",
     "text": [
      "float64\n",
      "--------------------\n",
      "      data1     data2\n",
      "0  1.532423 -0.748299\n",
      "1  0.923407 -0.616324\n",
      "2  0.262773 -2.045550\n",
      "3  1.645197 -0.132051\n",
      "4 -0.417500  0.184773\n",
      "\n",
      "\n",
      "object\n",
      "--------------------\n",
      "  key1 key2\n",
      "0    a  one\n",
      "1    a  two\n",
      "2    b  one\n",
      "3    b  two\n",
      "4    a  NaN\n",
      "\n",
      "\n"
     ]
    }
   ],
   "source": [
    "grouped = df.groupby(df.dtypes, axis=1)  # 행을 기준이 아닌 열(axis = 1)을 기준으로도 그룹을 만들 수 있음 \n",
    "for dtype, group in grouped:\n",
    "    print(dtype)\n",
    "    print('-'* 20)\n",
    "    print(group)\n",
    "    print('\\n')"
   ]
  },
  {
   "cell_type": "markdown",
   "id": "826f4777",
   "metadata": {},
   "source": [
    "## 컬럼이나 컬럼의 일부만 선택하기 \n",
    "생략"
   ]
  },
  {
   "cell_type": "markdown",
   "id": "d50b7bcd",
   "metadata": {},
   "source": [
    "## dict과 Series에서 그룹핑하기"
   ]
  }
 ],
 "metadata": {
  "kernelspec": {
   "display_name": "Python 3",
   "language": "python",
   "name": "python3"
  },
  "language_info": {
   "codemirror_mode": {
    "name": "ipython",
    "version": 3
   },
   "file_extension": ".py",
   "mimetype": "text/x-python",
   "name": "python",
   "nbconvert_exporter": "python",
   "pygments_lexer": "ipython3",
   "version": "3.7.9"
  }
 },
 "nbformat": 4,
 "nbformat_minor": 5
}
